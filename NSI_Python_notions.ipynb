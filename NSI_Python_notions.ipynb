{
 "cells": [
  {
   "cell_type": "markdown",
   "metadata": {},
   "source": [
    "# <div id=\"top\">NSI - Python - Notions</div> \n",
    "\n",
    "\n",
    "\n",
    "1. **<a href=\"#S1\">Notions de base de Python</a>**\n",
    "2. **<a href=\"#S2\">Listes et Tuples</a>**\n",
    "3. **<a href=\"#S3\">Structure conditionnelle</a>**\n",
    "4. **<a href=\"#S4\">Structures itératives</a>**\n",
    "5. **<a href=\"#S5\">List-comprehensions</a>**\n",
    "6. **<a href=\"#S6\">Fonctions et Modules</a>**\n",
    "7. **<a href=\"#S7\">Tracé de courbes</a>**\n",
    "\n",
    "## Annexes\n",
    "\n",
    "A. **<a href=\"#A1\">Les «mauvaises» propriétés des nombres flottants et la notion de précision</a>**\n",
    "\n",
    "B. **<a href=\"#B1\">Autres ressources</a>**"
   ]
  },
  {
   "cell_type": "markdown",
   "metadata": {},
   "source": [
    "# <div id=\"S1\">1. Notions de base de Python</div> \n",
    "\n",
    "<div style=\"text-align : right\"><a href=\"#top\">Retour</a></div>"
   ]
  },
  {
   "cell_type": "markdown",
   "metadata": {},
   "source": [
    "Exercice 1.2 - **(Mode interactive)** - On peut utiliser l'interpréteur Python en mode interactif comme une calculatrice.\n",
    "\n",
    "En effet, si vous y tapez une expression mathématique, cette dernière sera évaluée et son résultat affiché comme résultat intermédiaire **(autrement dit, il n'est pas nécessaire d'utiliser print, ce qui n'est pas le cas avec le mode script dans un éditeur tel que Pyzo)**.\n",
    "\n",
    "Voici, par exemple, une succession d'instructions à saisir en mode interactif.  \n",
    "Essayer les instructions suivantes (en **commenter/décommenter** les lignes necessaires) et noter la priorité des instructions :"
   ]
  },
  {
   "cell_type": "code",
   "execution_count": null,
   "metadata": {},
   "outputs": [],
   "source": [
    "2*12\n",
    "#2**10\n",
    "#((19.99 * 1.21) - 5) / 4\n",
    "#.6*9+.6\n",
    "#round(.6*9+.6)\n",
    "#13%2\n",
    "#13//2\n",
    "#divmod(13,2)"
   ]
  },
  {
   "cell_type": "markdown",
   "metadata": {},
   "source": [
    "Exercice 1.4 - **(Devine le résultat – affectations)** - Quel résultat donnent les codes suivants ?"
   ]
  },
  {
   "cell_type": "code",
   "execution_count": null,
   "metadata": {},
   "outputs": [],
   "source": [
    "a=1\n",
    "b=100\n",
    "b=a\n",
    "a=b\n",
    "print(\"a =\",a,\" b =\",b)"
   ]
  },
  {
   "cell_type": "code",
   "execution_count": null,
   "metadata": {},
   "outputs": [],
   "source": [
    "a=1\n",
    "b=100\n",
    "a=b\n",
    "b=a\n",
    "print(\"a =\",a,\" b =\",b)"
   ]
  },
  {
   "cell_type": "markdown",
   "metadata": {},
   "source": [
    "Exercice 1.5 - **(Séquentialité)** -  \n",
    "Écrire un script qui ne contient que les lignes suivantes après les avoir remises dans l'ordre de sorte qu'à la fin $x$ ait la valeur $46$."
   ]
  },
  {
   "cell_type": "code",
   "execution_count": null,
   "metadata": {},
   "outputs": [],
   "source": [
    "y=y-1\n",
    "y=2*x\n",
    "print(x)\n",
    "x=x+3*y\n",
    "x=7\n",
    "\n",
    "assert x == 46"
   ]
  },
  {
   "cell_type": "markdown",
   "metadata": {},
   "source": [
    "Exercice 1.6 - **(Devine le résultat – string)** - Quel résultat donne le code suivant ?"
   ]
  },
  {
   "cell_type": "code",
   "execution_count": null,
   "metadata": {},
   "outputs": [],
   "source": [
    "s='Coucou !'\n",
    "print(s)\n",
    "print(s[0])\n",
    "print(s[0:])\n",
    "print(s[::-1])\n",
    "print(s*2)\n",
    "print(s+\" TEST\")"
   ]
  },
  {
   "cell_type": "markdown",
   "metadata": {},
   "source": [
    "Exercice 1.7 - **(Sous-chaînes de caractères)** - On considère la chaîne de caractères $\\,\\,\\texttt{s=\"Bonjour le monde !\"}$.  \n",
    "\n",
    "Déterminer les sous-chaînes suivantes :\n",
    "\n",
    "s[:4], s[6:], s[1:3], s[-3:-1], s[:-4], s[-5:], s[0:7:2], s[2:8:3]."
   ]
  },
  {
   "cell_type": "code",
   "execution_count": null,
   "metadata": {},
   "outputs": [],
   "source": []
  },
  {
   "cell_type": "markdown",
   "metadata": {},
   "source": [
    "Exercice 1.8 - **(Happy Birthday)** - Soit les chaînes de caractères suivantes :  \n",
    "\n",
    "$\\texttt{h = 'Happy birthday'}$\n",
    "\n",
    "$\\texttt{t = 'to you'}$\n",
    "\n",
    "$\\texttt{p = 'Prenom'}$\n",
    "\n",
    "Imprimer la chanson $\\texttt{Happy birthday}$ par **concatenation** de ces chaînes."
   ]
  },
  {
   "cell_type": "code",
   "execution_count": null,
   "metadata": {},
   "outputs": [],
   "source": []
  },
  {
   "cell_type": "markdown",
   "metadata": {},
   "source": [
    "Exercice 1.9 - **(Compter le nombre de caractères blancs)** - Écrire un script qui compte le nombre de caractères blancs $\\texttt{\" \"}$ contenus dans une chaîne.\n",
    "\n",
    "Par exemple, si la chaîne de caractères est $\\,\\, \\texttt{s=\"Bonjour le monde !\"}$, on devra obtenir $3$."
   ]
  },
  {
   "cell_type": "code",
   "execution_count": null,
   "metadata": {},
   "outputs": [],
   "source": []
  },
  {
   "cell_type": "markdown",
   "metadata": {},
   "source": [
    "Exercice 1.10 - **(Calculer l'age)** - Affecter la variable $\\texttt{year}$ avec l'année courante et $\\texttt{birthyear}$ avec l'année de votre naissance.\n",
    "\n",
    "Afficher la phrase $\\text{“Je suis né en}\\quad \\texttt{xxxx}\\quad \\text{donc cette année j'aurai} \\quad \\texttt{xx} \\quad \\text{ans”}$ \\, où $\\quad \\texttt{xx}\\quad$ sera calculé automatiquement."
   ]
  },
  {
   "cell_type": "code",
   "execution_count": null,
   "metadata": {},
   "outputs": [],
   "source": []
  },
  {
   "cell_type": "markdown",
   "metadata": {},
   "source": [
    "Exercice 1.12 - **(Nombre de chiffre)** - Pour $n \\in \\mathbb{N}$ donné, calculer le nombre de chiffres qui le composent."
   ]
  },
  {
   "cell_type": "code",
   "execution_count": null,
   "metadata": {},
   "outputs": [],
   "source": []
  },
  {
   "cell_type": "markdown",
   "metadata": {},
   "source": [
    "Exercice 1.13 - **(Chaîne de caractères palindrome)** -Une chaîne de caractères est dite “palindrome”\n",
    "si elle se lit de la même façon de gauche à droite et de droite à gauche.\n",
    "\n",
    "Par exemple : \"a reveler mon nom mon nom relevera\" est palindrome \n",
    "\n",
    "(en ayant enlevé les accents, les virgules et les espaces blancs).\n",
    "\n",
    "Pour une chaîne donné, afficher $\\texttt{True}$ ou $\\texttt{False}$ selon que la chaîne de caractères est palindrome ou pas."
   ]
  },
  {
   "cell_type": "code",
   "execution_count": null,
   "metadata": {},
   "outputs": [],
   "source": []
  },
  {
   "cell_type": "markdown",
   "metadata": {},
   "source": [
    "Exercice 1.14 - **(Nombre palindrome)** - Un nombre est dit “palindrome” s'il se lit de la même façon de gauche à droite et de droite à gauche.\n",
    "\n",
    "Par exemple 12321 est palindrome.\n",
    "\n",
    "\n",
    "Pour $n \\in \\mathbb{N}$ donné, afficher $\\texttt{True}$ ou $\\texttt{False}$ selon que le nombre est palindrome ou pas.\n"
   ]
  },
  {
   "cell_type": "code",
   "execution_count": null,
   "metadata": {},
   "outputs": [],
   "source": []
  },
  {
   "cell_type": "markdown",
   "metadata": {},
   "source": [
    "Exercice 1.15 - **(Conversion h/m/s)** - Affecter à la variable $\\texttt{secTOT}$ un nombre de secondes. \n",
    "\n",
    "Calculer le nombre d'heures, de minutes et de secondes correspondants.\n",
    "\n",
    "Exemple pour $\\texttt{secTOT}=12546$ : \" 12546 secondes correspondent à 3 h 29 m 6 s \""
   ]
  },
  {
   "cell_type": "code",
   "execution_count": null,
   "metadata": {},
   "outputs": [],
   "source": []
  },
  {
   "cell_type": "markdown",
   "metadata": {},
   "source": [
    "Exercice Bonus 1.17 - **(Changement de casse)** - Avec $\\,\\,\\texttt{s =}$ \"Un EXEMPLE de Chaîne de Caractères\", que donneront les commandes suivantes ? \n",
    "\n",
    "Notez bien que $\\texttt{s}$ n'est pas modifiée, c'est une nouvelle chaîne qui est créée.\n",
    "\n",
    "$\\texttt{s.lower()}$\n",
    "\n",
    "$\\texttt{s.upper()}$\n",
    "\n",
    "$\\texttt{s.capitalize()}$\n",
    "\n",
    "$\\texttt{s.title()}$\n",
    "\n",
    "$\\texttt{s.swapcase()}$"
   ]
  },
  {
   "cell_type": "code",
   "execution_count": null,
   "metadata": {},
   "outputs": [],
   "source": [
    "𝚜 = \"𝚄𝚗 𝙴𝚇𝙴𝙼𝙿𝙻𝙴 𝚍𝚎 𝙲𝚑𝚊î𝚗𝚎 𝚍𝚎 𝙲𝚊𝚛𝚊𝚌𝚝è𝚛𝚎𝚜\"\n"
   ]
  },
  {
   "cell_type": "markdown",
   "metadata": {},
   "source": [
    "Exercice Bonus 1.18 - **(Comptage et recherche)** - Avec $\\,\\,\\texttt{s =}$ \"Monsieur Jack, vous dactylographiez bien mieux que votre ami Wolf\", que donneront les commandes suivantes ?\n",
    "\n",
    "$\\texttt{len(s) ; s.count('e') ; s.count('ie') ; s.find('i') ; s.index('i') ; s.index('i',40)}$"
   ]
  },
  {
   "cell_type": "code",
   "execution_count": null,
   "metadata": {},
   "outputs": [],
   "source": [
    "𝚜 = \"Monsieur Jack, vous dactylographiez bien mieux que votre ami Wolf\"\n"
   ]
  },
  {
   "cell_type": "markdown",
   "metadata": {},
   "source": [
    "# <div id=\"S2\">2. Listes et Tuples</div> \n",
    "\n",
    "<div style=\"text-align : right\"><a href=\"#top\">Retour</a></div>"
   ]
  },
  {
   "cell_type": "markdown",
   "metadata": {},
   "source": [
    "Exercice 2.1 - **(Devine le résultat)** - L=[1,2,3,\"a\",\"b\",\"toto\",\"zoo\",\"-3.14\",-3.14,[8,9,5]]"
   ]
  },
  {
   "cell_type": "code",
   "execution_count": null,
   "metadata": {},
   "outputs": [],
   "source": [
    "L=[1,2,3,\"a\",\"b\",\"toto\",\"zoo\",\"-3.14\",-3.14,[8,9,5]]\n",
    "print(L[2])\n",
    "#print(L[5:7])\n",
    "#print(L[5:])\n",
    "#print(L[2]*2)\n",
    "#print(L[2]+2)\n",
    "#print(L[8]*3)\n",
    "#print(L[7]*3)\n",
    "#print(float(L[7])*3)\n",
    "#print(L[8]+2)\n",
    "#print(L[7]+2)\n",
    "#print(L[7]+\"2\")"
   ]
  },
  {
   "cell_type": "markdown",
   "metadata": {},
   "source": [
    "Exercice 2.2 - **(Moyenne)** - Soit $\\texttt{L}$ une liste de nombres.  \n",
    "\n",
    "Calculer la somme des éléments de $\\texttt{L}$, puis le nombre d'éléments de $\\texttt{L}$ et en déduire la moyenne arithmétique des éléments de $\\texttt{L}$.\n",
    "\n",
    "Par exemple, si $\\,\\,\\texttt{L=[0,1,2,3]}$, on doit obtenir $1.5$"
   ]
  },
  {
   "cell_type": "code",
   "execution_count": null,
   "metadata": {},
   "outputs": [],
   "source": []
  },
  {
   "cell_type": "markdown",
   "metadata": {},
   "source": [
    "Exercice 2.3 - **(Effectifs et fréquence)** - Soit $\\texttt{L}$ une liste de nombres entiers donnés.\n",
    "\n",
    "Soit $\\texttt{n}$ un élément dans $\\texttt{L}$. Calculer l'effectif et la fréquence de $\\texttt{n}$\n",
    "dans cette liste.\n",
    "\n",
    "Par exemple, si $\\,\\,\\texttt{L=[0,10,20,10,20,30,20,30,40,20]}$, et $\\,\\,\\texttt{n} = 20$  \n",
    "alors son effectif est $4$ (nombre de fois où il apparaît) et sa fréquence est $4/10$ (effectif de la valeur / effectif total)."
   ]
  },
  {
   "cell_type": "code",
   "execution_count": null,
   "metadata": {},
   "outputs": [],
   "source": []
  },
  {
   "cell_type": "markdown",
   "metadata": {},
   "source": [
    "Exercice 2.4 - **(Range)** - En utilisant l'itérateur $\\,\\,\\texttt{range}$, générer et afficher les listes suivantes :\n",
    "\n",
    "$\\texttt{A = [2; 3; 4; 5; 6; 7; 8; 9]}$\n",
    "\n",
    "$\\texttt{B = [9; 18; 27; 36; 45; 54; 63; 72; 81; 90]}$\n",
    "\n",
    "$\\texttt{C = [2; 4; 6; 8; ... ; 48; 50]}$\n",
    "\n",
    "$\\texttt{D = [1; 3; 5; 7; ... ; 47; 49]}$"
   ]
  },
  {
   "cell_type": "code",
   "execution_count": null,
   "metadata": {},
   "outputs": [],
   "source": [
    "𝙰 = list(range(2,10)) #A = [i for i in range(2,10)]\n",
    "print(\"A =\",A)"
   ]
  },
  {
   "cell_type": "code",
   "execution_count": null,
   "metadata": {},
   "outputs": [],
   "source": []
  },
  {
   "cell_type": "markdown",
   "metadata": {},
   "source": [
    "Exercice 2.5 - **(LE piège avec la copie de listes)** - Devine le résultat."
   ]
  },
  {
   "cell_type": "markdown",
   "metadata": {},
   "source": [
    "1. Modification de la première liste "
   ]
  },
  {
   "cell_type": "code",
   "execution_count": 3,
   "metadata": {},
   "outputs": [
    {
     "name": "stdout",
     "output_type": "stream",
     "text": [
      "a=[0, 1, 2, 3, 4]\n",
      "b=[0, 1, 2, 3, 4]\n",
      "a=[99, 1, 2, 3, 4]\n",
      "b=[99, 1, 2, 3, 4]\n"
     ]
    }
   ],
   "source": [
    "a=list(range(5))\n",
    "b=a\n",
    "print(f\"a={a}\\nb={b}\")\n",
    "a[0]=99\n",
    "print(f\"a={a}\\nb={b}\")"
   ]
  },
  {
   "cell_type": "markdown",
   "metadata": {},
   "source": [
    "2. Modification de la deuxième liste"
   ]
  },
  {
   "cell_type": "code",
   "execution_count": null,
   "metadata": {},
   "outputs": [],
   "source": [
    "a=list(range(5))\n",
    "b=a\n",
    "print(f\"a={a}\\nb={b}\")\n",
    "b[0]=99\n",
    "print(f\"a={a}\\nb={b}\")"
   ]
  },
  {
   "cell_type": "markdown",
   "metadata": {},
   "source": [
    "3. Shallow copy (copie superficielle)"
   ]
  },
  {
   "cell_type": "code",
   "execution_count": null,
   "metadata": {},
   "outputs": [],
   "source": [
    "\n",
    "a=list(range(5))\n",
    "b=a[:]\n",
    "print(f\"a={a}\\nb={b}\")\n",
    "b[0]=99\n",
    "print(f\"a={a}\\nb={b}\")"
   ]
  },
  {
   "cell_type": "markdown",
   "metadata": {},
   "source": [
    "Exercice **Bonus** 2.7 - Parfois il peut être utile de transformer une chaîne de caractère en liste. \n",
    "\n",
    "Cela est possible avec la méthode $\\texttt{split}$. L'inverse est possible avec la méthode $\\texttt{join}$.\n",
    "\n",
    "Tester les commandes suivantes :"
   ]
  },
  {
   "cell_type": "code",
   "execution_count": 4,
   "metadata": {},
   "outputs": [
    {
     "name": "stdout",
     "output_type": "stream",
     "text": [
      "Franck:LAGRAVE:Lycée Beaussier\n",
      "['Franck', 'LAGRAVE', 'Lycée Beaussier']\n",
      "------------------------------------------------------------\n",
      "['Franck', 'LAGRAVE', 'Lycée Beaussier']\n",
      "Franck-LAGRAVE-Lycée Beaussier\n"
     ]
    }
   ],
   "source": [
    "s = \"Franck:LAGRAVE:Lycée Beaussier\"\n",
    "print(s)\n",
    "L=s.split(\":\")\n",
    "print(L)\n",
    "print(\"--\"*30)\n",
    "L=[\"Franck\",\"LAGRAVE\",\"Lycée Beaussier\"]\n",
    "print(L)\n",
    "s=\"-\".join(L)\n",
    "print(s)"
   ]
  },
  {
   "cell_type": "markdown",
   "metadata": {},
   "source": [
    "## Références et Valeurs\n"
   ]
  },
  {
   "cell_type": "markdown",
   "metadata": {},
   "source": [
    "### Cas des types simples : tout va bien !"
   ]
  },
  {
   "cell_type": "code",
   "execution_count": 1,
   "metadata": {},
   "outputs": [
    {
     "name": "stdout",
     "output_type": "stream",
     "text": [
      "a= 5 \tb= 5\n"
     ]
    }
   ],
   "source": [
    "a = 5\n",
    "b = a\n",
    "print(\"a=\",a,\"\\tb=\",b)"
   ]
  },
  {
   "cell_type": "markdown",
   "metadata": {},
   "source": [
    "**a et b ont la même valeur**."
   ]
  },
  {
   "cell_type": "code",
   "execution_count": 2,
   "metadata": {},
   "outputs": [
    {
     "name": "stdout",
     "output_type": "stream",
     "text": [
      "a = 5 \tb = 7\n"
     ]
    }
   ],
   "source": [
    "b=7\n",
    "print(\"a =\",a,\"\\tb =\",b)"
   ]
  },
  {
   "cell_type": "markdown",
   "metadata": {},
   "source": [
    "Si on **change la valeur de b, a reste inchangé**. Évidemment me direz-vous !"
   ]
  },
  {
   "cell_type": "markdown",
   "metadata": {},
   "source": [
    "### Cas des Listes : ⚠️ Danger ! ⚠️"
   ]
  },
  {
   "cell_type": "markdown",
   "metadata": {},
   "source": [
    "Réalisons le même code avec des **listes**"
   ]
  },
  {
   "cell_type": "code",
   "execution_count": 3,
   "metadata": {},
   "outputs": [
    {
     "name": "stdout",
     "output_type": "stream",
     "text": [
      "liste1 = [1, 2, 3] \tliste2 = [1, 2, 3]\n"
     ]
    }
   ],
   "source": [
    "liste1 = [1,2,3]\n",
    "liste2 = liste1\n",
    "print(\"liste1 =\",liste1,\"\\tliste2 =\",liste2)"
   ]
  },
  {
   "cell_type": "markdown",
   "metadata": {},
   "source": [
    "**liste1 et liste2 ont la même valeur**. Mais **modifions liste2** ???"
   ]
  },
  {
   "cell_type": "code",
   "execution_count": 4,
   "metadata": {},
   "outputs": [
    {
     "name": "stdout",
     "output_type": "stream",
     "text": [
      "liste1 = [1, 2, 3, 4] \tliste2 = [1, 2, 3, 4]\n"
     ]
    }
   ],
   "source": [
    "liste2 += [4]\n",
    "print(\"liste1 =\",liste1,\"\\tliste2 =\",liste2)"
   ]
  },
  {
   "cell_type": "markdown",
   "metadata": {},
   "source": [
    "⚠️ **Si on modifie liste2, liste1 est modifiée aussi !** ⚠️ Que c'est-il passé ???\n",
    "\n",
    "Pour comprendre, écrivons une fonction qui retourne ***l'adresse*** ou la **référence** de la variable en mémoire :"
   ]
  },
  {
   "cell_type": "code",
   "execution_count": 5,
   "metadata": {},
   "outputs": [],
   "source": [
    "def adr(l: list):\n",
    "    return hex(id(l))"
   ]
  },
  {
   "cell_type": "markdown",
   "metadata": {},
   "source": [
    "Regardons les adresses de liste1 et liste2 :"
   ]
  },
  {
   "cell_type": "code",
   "execution_count": 6,
   "metadata": {},
   "outputs": [
    {
     "name": "stdout",
     "output_type": "stream",
     "text": [
      "Adresse de liste1: 0x7fd888798f88\n",
      "Adresse de liste2: 0x7fd888798f88\n"
     ]
    }
   ],
   "source": [
    "print(\"Adresse de liste1:\",adr(liste1))\n",
    "print(\"Adresse de liste2:\",adr(liste2))"
   ]
  },
  {
   "cell_type": "markdown",
   "metadata": {},
   "source": [
    "Les deux variables **liste1 et liste2 pointent vers la même adresse en mémoire** : leur contenu est donc toujours **identique**. En effet, si je modifie l'une, je modifie l'autre puisqu'elles **pointent sur le même contenu en mémoire**.\n",
    "\n",
    "Python **ne recopie pas le contenu de liste1 dans liste2**, il se contente de **faire pointer la variable liste2 sur l'emplacement mémoire de liste1**.\n",
    "\n",
    "Si on souhaite **recopier** liste1 dans liste2 et que les 2 variables **restent indépendantes** avec des **adresses différentes**, il faut indiquer **explicitement la copie** come ceci :"
   ]
  },
  {
   "cell_type": "code",
   "execution_count": 7,
   "metadata": {},
   "outputs": [
    {
     "name": "stdout",
     "output_type": "stream",
     "text": [
      "liste1 = [1, 2, 3] \tliste2 = [1, 2, 3]\n",
      "Adresse de liste1: 0x7fd88880dd88\n",
      "Adresse de liste2: 0x7fd8886e6588\n"
     ]
    }
   ],
   "source": [
    "liste1 = [1,2,3]\n",
    "liste2 = liste1.copy()\n",
    "print(\"liste1 =\",liste1,\"\\tliste2 =\",liste2)\n",
    "print(\"Adresse de liste1:\",adr(liste1))\n",
    "print(\"Adresse de liste2:\",adr(liste2))"
   ]
  },
  {
   "cell_type": "code",
   "execution_count": 8,
   "metadata": {},
   "outputs": [
    {
     "name": "stdout",
     "output_type": "stream",
     "text": [
      "liste1 = [1, 2, 3] \tliste2 = [1, 2, 3, 4]\n"
     ]
    }
   ],
   "source": [
    "liste2 += [4]\n",
    "print(\"liste1 =\",liste1,\"\\tliste2 =\",liste2)"
   ]
  },
  {
   "cell_type": "markdown",
   "metadata": {},
   "source": [
    "Cette fois les deux variables sont bien **distinctes** et occupent **2 places en mémoire différentes**. Elles sont donc **indépendantes**."
   ]
  },
  {
   "cell_type": "markdown",
   "metadata": {},
   "source": [
    "##  Variables Immuables (immutable) et Muables (mutable)"
   ]
  },
  {
   "cell_type": "markdown",
   "metadata": {},
   "source": [
    "### Immuables\n",
    "\n",
    "Les variables de type **int, float, bool, str** sont **immuables** c'est-à-dire **pas modifiables** !\n",
    "\n",
    "C'est évidemment **étrange** car vous avez bien modifié le contenu de certaines variables de type int dans vos programmes...\n",
    "\n",
    "Une variable **immuable ne peut pas changer le contenu de son emplacement en mémoire**. Donc, quand on souhaite modifier une variable **immuable**, par exemple si on écrit `a+=2`, Python **crée une nouvelle variable avec le même nom ailleurs en mémoire**.\n",
    "\n",
    "Vérifions cela :"
   ]
  },
  {
   "cell_type": "code",
   "execution_count": 9,
   "metadata": {},
   "outputs": [
    {
     "name": "stdout",
     "output_type": "stream",
     "text": [
      "Valeur de a: 5 \t\tAdresse de la variable a:  0x55c75dd744a0\n",
      "Valeur de a: 7 \t\tAdresse de la variable a:  0x55c75dd744e0\n"
     ]
    }
   ],
   "source": [
    "a = 5\n",
    "print(\"Valeur de a:\", a, \"\\t\\tAdresse de la variable a: \", adr(a))\n",
    "a+=2\n",
    "print(\"Valeur de a:\", a, \"\\t\\tAdresse de la variable a: \", adr(a))"
   ]
  },
  {
   "cell_type": "markdown",
   "metadata": {},
   "source": [
    "La variable a est bien **modifiée, mais ce n'est pas la même**, c'est une **nouvelle** variable a !\n",
    "\n",
    "À chaque fois que Python **modifie la valeur d'une variable immuable, il en crée une nouvelle copie ! C'est inefficace** mais apporte **plus de sécurité** car cela évite de modifier des variables sans le vouloir."
   ]
  },
  {
   "cell_type": "markdown",
   "metadata": {},
   "source": [
    "### Muables\n",
    "\n",
    "Les variables de type **list, set, dict** sont **muables** c'est-à-dire sont **modifiables sans changer de référence en mémoire**.\n",
    "\n",
    "Une variable **muable peut changer de contenu en gardant la même référence en mémoire**.\n",
    "\n",
    "Vérifions cela aussi :"
   ]
  },
  {
   "cell_type": "code",
   "execution_count": 10,
   "metadata": {},
   "outputs": [
    {
     "name": "stdout",
     "output_type": "stream",
     "text": [
      "Valeur de liste: [1, 2, 3] \t\tAdresse de la variable liste:  0x7fd8887438c8\n",
      "Valeur de liste: [1, 2, 3, 2] \t\tAdresse de la variable liste:  0x7fd8887438c8\n"
     ]
    }
   ],
   "source": [
    "liste = [1,2,3]\n",
    "print(\"Valeur de liste:\", liste, \"\\t\\tAdresse de la variable liste: \", adr(liste))\n",
    "liste += [2]\n",
    "print(\"Valeur de liste:\", liste, \"\\t\\tAdresse de la variable liste: \", adr(liste))"
   ]
  },
  {
   "cell_type": "markdown",
   "metadata": {},
   "source": [
    "La variable liste est **muable** elle est donc bien **modifiée** directement, **en gardant la même référence en mémoire** !\n",
    "\n",
    "Les variables **muables** engendrent parfois des **bugs car elles peuvent être modifiées par erreur de programmation**. Par contre cette gestion est **plus efficace** car on ne **recopie pas la variable à chaque modification**."
   ]
  },
  {
   "cell_type": "markdown",
   "metadata": {},
   "source": [
    "# <div id=\"S3\">3. Structure conditionnelle</div> \n",
    "\n",
    "<div style=\"text-align : right\"><a href=\"#top\">Retour</a></div>"
   ]
  },
  {
   "cell_type": "markdown",
   "metadata": {},
   "source": [
    "Exercice 3.1 - **(Devine le résultat)** - Après avoir écrit votre réponse, vérifiez-là en console.  \n",
    "\n",
    "Quel résultat donnent les codes suivants ?"
   ]
  },
  {
   "cell_type": "markdown",
   "metadata": {},
   "source": [
    "Cas 1 :  \n",
    "2 4 6"
   ]
  },
  {
   "cell_type": "code",
   "execution_count": null,
   "metadata": {},
   "outputs": [],
   "source": [
    "#Cas 1 :\n",
    "a=2\n",
    "b=4\n",
    "if b>10:\n",
    "    b=a*b\n",
    "    a=b\n",
    "c = a+b\n",
    "print(a,b,c)"
   ]
  },
  {
   "cell_type": "markdown",
   "metadata": {},
   "source": [
    "Cas 2 :  \n"
   ]
  },
  {
   "cell_type": "code",
   "execution_count": null,
   "metadata": {},
   "outputs": [],
   "source": [
    "#Cas 2 :\n",
    "a=2\n",
    "b=10\n",
    "if b>10:\n",
    "    b=a*b\n",
    "    a=b\n",
    "c = a+b\n",
    "print(a,b,c)"
   ]
  },
  {
   "cell_type": "markdown",
   "metadata": {},
   "source": [
    "Cas 3 :  \n"
   ]
  },
  {
   "cell_type": "code",
   "execution_count": null,
   "metadata": {},
   "outputs": [],
   "source": [
    "#Cas 3 :\n",
    "a=2\n",
    "b=13\n",
    "if b>10:\n",
    "    b=a*b\n",
    "    a=b\n",
    "c = a+b\n",
    "print(a,b,c)"
   ]
  },
  {
   "cell_type": "markdown",
   "metadata": {},
   "source": [
    "Cas 4 :  \n"
   ]
  },
  {
   "cell_type": "code",
   "execution_count": null,
   "metadata": {},
   "outputs": [],
   "source": [
    "#Cas 4 :\n",
    "a=2\n",
    "b=4\n",
    "if b>10:\n",
    "    b=a*b\n",
    "else:\n",
    "    a=b\n",
    "c = a+b\n",
    "print(a,b,c)"
   ]
  },
  {
   "cell_type": "markdown",
   "metadata": {},
   "source": [
    "Cas 5 :  \n"
   ]
  },
  {
   "cell_type": "code",
   "execution_count": null,
   "metadata": {},
   "outputs": [],
   "source": [
    "#Cas 5 :\n",
    "a=2\n",
    "b=10\n",
    "if b>10:\n",
    "    b=a*b\n",
    "else:\n",
    "    a=b\n",
    "c = a+b\n",
    "print(a,b,c)\n"
   ]
  },
  {
   "cell_type": "markdown",
   "metadata": {},
   "source": [
    "Cas 6 :  \n"
   ]
  },
  {
   "cell_type": "code",
   "execution_count": null,
   "metadata": {},
   "outputs": [],
   "source": [
    "#Cas 6 :\n",
    "a=2\n",
    "b=13\n",
    "if b>10:\n",
    "    b=a*b\n",
    "else:\n",
    "    a=b\n",
    "c = a+b\n",
    "print(a,b,c)"
   ]
  },
  {
   "cell_type": "markdown",
   "metadata": {},
   "source": [
    "Cas 7 :  \n"
   ]
  },
  {
   "cell_type": "code",
   "execution_count": null,
   "metadata": {},
   "outputs": [],
   "source": [
    "#Cas 7 :\n",
    "a=2\n",
    "b=4\n",
    "if b>10:\n",
    "    b=a*b\n",
    "a=b\n",
    "c = a+b\n",
    "print(a,b,c)"
   ]
  },
  {
   "cell_type": "markdown",
   "metadata": {},
   "source": [
    "Cas 8 :  \n"
   ]
  },
  {
   "cell_type": "code",
   "execution_count": null,
   "metadata": {},
   "outputs": [],
   "source": [
    "#Cas 8 :\n",
    "a=2\n",
    "b=10\n",
    "if b>10:\n",
    "    b=a*b\n",
    "a=b\n",
    "c = a+b\n",
    "print(a,b,c)"
   ]
  },
  {
   "cell_type": "markdown",
   "metadata": {},
   "source": [
    "Exercice 3.2 -**(Blanche Neige)**- Soit le code :"
   ]
  },
  {
   "cell_type": "code",
   "execution_count": null,
   "metadata": {},
   "outputs": [],
   "source": [
    "if a<b<c:\n",
    "    if 2*a<b:\n",
    "        print(\"Prof\")\n",
    "    else:\n",
    "        print(\"Timide\")\n",
    "    if 2*c<b:\n",
    "        print(\"Atchoum\")\n",
    "else:\n",
    "    if a<b:\n",
    "        print(\"Joyeux\")\n",
    "    if a<c:\n",
    "        print(\"Simplet\")\n",
    "    elif b<c:\n",
    "        print(\"Dormeur\")\n",
    "    else:\n",
    "        print(\"Grincheux\")"
   ]
  },
  {
   "cell_type": "markdown",
   "metadata": {},
   "source": [
    "1. Quel résultat obtient-on dans les 5 cas suivants :   \n",
    "Cas 1 : a = 1, b = 1, c = 1  \n",
    "Cas 2 : a = 2, b = 1, c = 2  \n",
    "Cas 3 : a = 4, b = 5, c = 2  \n",
    "Cas 4 : a = 1, b = 4, c = 7  \n",
    "Cas 5 : a = 4, b = 5, c = 6  \n",
    "2. Trouver, s'il existe, un triplet $\\,\\,\\texttt{(a; b; c)}$ tel que le code affichera $\\texttt{Atchoum}$.  \n",
    "3. Même question pour $\\texttt{Simplet}$."
   ]
  },
  {
   "cell_type": "markdown",
   "metadata": {},
   "source": []
  },
  {
   "cell_type": "markdown",
   "metadata": {},
   "source": [
    "Exercice 3.3 - **(Calculer |x|)** -Afficher la valeur absolue d'un nombre $\\texttt{x}$ sans utiliser la fonction $\\texttt{abs}$."
   ]
  },
  {
   "cell_type": "code",
   "execution_count": null,
   "metadata": {},
   "outputs": [],
   "source": []
  },
  {
   "cell_type": "markdown",
   "metadata": {},
   "source": [
    "Exercice 3.4 - **(Indice IMC)** -  \n",
    "\n",
    "Écrire un script qui, connaissant la taille (en mètres) et la masse (en kg) d'un individu, lui renvoie sa masse IMC avec un petit commentaire :\n",
    "- si l’indice IMC est inférieur à 25, le commentaire pourra être : «vous n’êtes pas en surpoids»\n",
    "- sinon le commentaire pourra être : «vous êtes en surpoids».\n",
    "\n",
    "Cet algorithme utilisera $3$ variables : $\\texttt{masse}$, $\\texttt{taille}$ et $\\texttt{IMC}= \\dfrac{\\texttt{masse}}{\\texttt{taille} \\times \\texttt{taille}}$ ."
   ]
  },
  {
   "cell_type": "code",
   "execution_count": null,
   "metadata": {},
   "outputs": [],
   "source": []
  },
  {
   "cell_type": "markdown",
   "metadata": {},
   "source": [
    "Exercice 3.6 - **(Triangles)** -\n",
    "Écrire un script qui, étant donnés trois nombres réels positifs $\\texttt{a; b; c}$ correspondant aux longueurs des trois cotés d'un triangle, affiche le type de triangle dont il s'agit parmi équilatéral, isocèle et quelconque.\n",
    "\n",
    "Puis il affiche si le triangle est rectangle. Tester le script dans les cas suivants (dont on connaît la solution) :\n",
    "\n",
    "1. $\\texttt{a = 1, b = 2, c = 3}, (quelconque)\n",
    "2. $\\texttt{a = 1, b = 1, c = 2}, (isocèle)\n",
    "3. $\\texttt{a = 1, b = 1, c = 1}, (équilatéral)\n",
    "4. $\\texttt{a = 1, b = 0, c = −1}, (erreur de saisie)\n",
    "5. $\\texttt{a = 1, b = 2, c =} 5^{1/2}$, (quelconque, rectangle)\n",
    "6. $\\texttt{a = 1, b = 1, c =} 2^{1/2}$, (isocèle rectangle)\n",
    "\n",
    "**Nota bene :** au lieu d'écrire $\\texttt{x==y}\\,\\,$ on utilisera $\\,\\,\\texttt{abs(x-y)<1.e-10}$"
   ]
  },
  {
   "cell_type": "code",
   "execution_count": null,
   "metadata": {},
   "outputs": [],
   "source": []
  },
  {
   "cell_type": "markdown",
   "metadata": {},
   "source": [
    "Exercice 3.7 - **($ax^2 + bx + c = 0$)** - Écrire un script qui, étant donnés trois nombres réels $\\texttt{a; b; c}$, détermine, stocke dans la variable racines et affiche la ou les solutions réelles (si elles existent) de l'équation du second degré $\\texttt{a}x^2 + \\texttt{b}x + \\texttt{c} = 0$.\n",
    "\n",
    "Cette variable est constituée de\n",
    "- un tuple si les racines sont réelles et distinctes,\n",
    "- une seule valeur si la racine est unique,\n",
    "- un tuple vide si les racines sont complexes conjuguées\n",
    "\n",
    "Tester le script dans les trois cas suivants (dont on connaît la solution) :\n",
    "1. $\\texttt{a = 1, b = 0, c = −4}$\n",
    "2. $\\texttt{a = 1, b = 4, c = 4}$\n",
    "3. $\\texttt{a = 1, b = 0, c = 4}$\n",
    "\n",
    "Pour calculer la racine carrée d’un nombre $\\texttt{p}$ on utilisera la propriété $\\sqrt{\\texttt{p}} = \\texttt{p}^{\\frac{1}{2}}$, e.g. au lieu d'écrire $\\sqrt{\\texttt{p}}$ on écrira $\\texttt{p**0.5}$"
   ]
  },
  {
   "cell_type": "code",
   "execution_count": null,
   "metadata": {},
   "outputs": [],
   "source": []
  },
  {
   "cell_type": "markdown",
   "metadata": {},
   "source": [
    "# <div id=\"S4\">4. Structures itératives</div> \n",
    "\n",
    "<div style=\"text-align : right\"><a href=\"#top\">Retour</a></div>"
   ]
  },
  {
   "cell_type": "markdown",
   "metadata": {},
   "source": [
    "Les structures de répétition se classent en deux catégories :\n",
    "- les **répétitions conditionnelles** pour lesquelles le bloc d'instructions est à répéter autant de fois qu'une condition est vérifiée ;  \n",
    "  - Boucle $\\texttt{while}$ : répétition conditionnelle -   $\\texttt{while}$ est la traduction de “tant que. . .”. Concrètement, la boucle s'exécutera tant qu'une condition est remplie (donc tant qu'elle renverra la valeur $\\texttt{True}$)\n",
    "- et les **répétitions inconditionnelles** pour lesquelles le bloc d'instructions est à répéter un nombre donné de fois ;  \n",
    "  - C'est la structure introduite par le mot-clé $\\texttt{for}$  \n",
    "    on peut utiliser un *compteur actif*, c'est-à-dire une variable qui compte le nombre de répétitions et conditionne la sortie de la boucle.\n"
   ]
  },
  {
   "cell_type": "markdown",
   "metadata": {},
   "source": [
    "Exercice 4.1 - **(Devine le résultat)** -Quel résultat donnent les codes suivants ?\n",
    "\n",
    "Après avoir écrit votre réponse, vérifiez-là avec la console."
   ]
  },
  {
   "cell_type": "markdown",
   "metadata": {},
   "source": [
    "Cas 1 :  \n"
   ]
  },
  {
   "cell_type": "code",
   "execution_count": null,
   "metadata": {},
   "outputs": [],
   "source": [
    "#Cas 1 :\n",
    "n=1\n",
    "while n<5:\n",
    "    print(n)\n",
    "    n+=1"
   ]
  },
  {
   "cell_type": "markdown",
   "metadata": {},
   "source": [
    "Cas 2 :  \n"
   ]
  },
  {
   "cell_type": "code",
   "execution_count": null,
   "metadata": {},
   "outputs": [],
   "source": [
    "#Cas 2 :\n",
    "n=1\n",
    "while n<5:\n",
    "    n+=1\n",
    "    print(n)"
   ]
  },
  {
   "cell_type": "markdown",
   "metadata": {},
   "source": [
    "Cas 3 :  \n"
   ]
  },
  {
   "cell_type": "code",
   "execution_count": null,
   "metadata": {},
   "outputs": [],
   "source": [
    "#Cas 3 :\n",
    "n=1\n",
    "while (n<10) and (n<5):\n",
    "    print(n)\n",
    "    n+=1"
   ]
  },
  {
   "cell_type": "markdown",
   "metadata": {},
   "source": [
    "Cas 4 :  \n"
   ]
  },
  {
   "cell_type": "code",
   "execution_count": null,
   "metadata": {},
   "outputs": [],
   "source": [
    "#Cas 4 :\n",
    "n=1\n",
    "while (n<10) or (n<5):\n",
    "    print(n)\n",
    "    n+=1"
   ]
  },
  {
   "cell_type": "markdown",
   "metadata": {},
   "source": [
    "Cas 5 :   "
   ]
  },
  {
   "cell_type": "code",
   "execution_count": null,
   "metadata": {},
   "outputs": [],
   "source": [
    "#Cas 5 :\n",
    "n=1\n",
    "while 5<n<10:\n",
    "    print(n)\n",
    "    n+=1"
   ]
  },
  {
   "cell_type": "markdown",
   "metadata": {},
   "source": [
    "Cas 6 :  \n"
   ]
  },
  {
   "cell_type": "code",
   "execution_count": null,
   "metadata": {},
   "outputs": [],
   "source": [
    "#Cas 6 :\n",
    "n=6\n",
    "while 5<n<10:\n",
    "    print(n)\n",
    "    n+=1"
   ]
  },
  {
   "cell_type": "markdown",
   "metadata": {},
   "source": [
    "Cas 7 :  \n"
   ]
  },
  {
   "cell_type": "code",
   "execution_count": null,
   "metadata": {},
   "outputs": [],
   "source": [
    "#Cas 7 :\n",
    "n=9\n",
    "while 5<n<10:\n",
    "    print(n)\n",
    "    n-=1"
   ]
  },
  {
   "cell_type": "markdown",
   "metadata": {},
   "source": [
    "Cas 8 :  \n"
   ]
  },
  {
   "cell_type": "code",
   "execution_count": null,
   "metadata": {},
   "outputs": [],
   "source": [
    "#Cas 8 :\n",
    "i=0\n",
    "n=0\n",
    "while n<10:\n",
    "    print(i,n)\n",
    "    i+=1\n",
    "    n=i*i"
   ]
  },
  {
   "cell_type": "markdown",
   "metadata": {},
   "source": [
    "Cas 9 :  \n"
   ]
  },
  {
   "cell_type": "code",
   "execution_count": null,
   "metadata": {},
   "outputs": [],
   "source": [
    "#Cas 9 :\n",
    "i=0\n",
    "n=0\n",
    "while n<10:\n",
    "    print(i,n)\n",
    "    n=i*i\n",
    "    i+=1"
   ]
  },
  {
   "cell_type": "markdown",
   "metadata": {},
   "source": [
    "Exercice 4.2 -**(Devine le résultat)** - Après avoir écrit votre réponse, vérifiez-là avec la console.\n",
    "\n",
    "Quel résultat donnent les codes suivants ?"
   ]
  },
  {
   "cell_type": "markdown",
   "metadata": {},
   "source": [
    "Cas 1 :  \n"
   ]
  },
  {
   "cell_type": "code",
   "execution_count": null,
   "metadata": {},
   "outputs": [],
   "source": [
    "#Cas 1 :\n",
    "for n in range(5):\n",
    "    print(n)"
   ]
  },
  {
   "cell_type": "markdown",
   "metadata": {},
   "source": [
    "Cas 2 :  \n"
   ]
  },
  {
   "cell_type": "code",
   "execution_count": null,
   "metadata": {},
   "outputs": [],
   "source": [
    "#Cas 2 :\n",
    "for n in range(2,8):\n",
    "    print(n)"
   ]
  },
  {
   "cell_type": "markdown",
   "metadata": {},
   "source": [
    "Cas 3 :  \n"
   ]
  },
  {
   "cell_type": "code",
   "execution_count": null,
   "metadata": {},
   "outputs": [],
   "source": [
    "#Cas 3 :\n",
    "for n in range(2,8,2):\n",
    "    print(n)"
   ]
  },
  {
   "cell_type": "markdown",
   "metadata": {},
   "source": [
    "Cas 4 :  \n"
   ]
  },
  {
   "cell_type": "code",
   "execution_count": null,
   "metadata": {},
   "outputs": [],
   "source": [
    "#Cas 4 :\n",
    "for n in range(10):\n",
    "    if n%4==0:\n",
    "        print(n)"
   ]
  },
  {
   "cell_type": "markdown",
   "metadata": {},
   "source": [
    "Cas 5 :  \n"
   ]
  },
  {
   "cell_type": "code",
   "execution_count": null,
   "metadata": {},
   "outputs": [],
   "source": [
    "#Cas 5 :\n",
    "for n in range(10):\n",
    "    if n%4==0:\n",
    "        print(n)\n",
    "    elif n%2==0:\n",
    "        print(2*n)\n",
    "    else:\n",
    "        None"
   ]
  },
  {
   "cell_type": "markdown",
   "metadata": {},
   "source": [
    "Cas 6 :  \n"
   ]
  },
  {
   "cell_type": "code",
   "execution_count": null,
   "metadata": {},
   "outputs": [],
   "source": [
    "#Cas 6 :\n",
    "for n in range(10):\n",
    "    if n%2==0:\n",
    "        print(2*n)\n",
    "    elif n%4==0:\n",
    "        print(n)\n",
    "    else:\n",
    "        None"
   ]
  },
  {
   "cell_type": "markdown",
   "metadata": {},
   "source": [
    "Exercice 4.3 - **(Puissance)** - Soit $n \\in \\mathbb{N}$ donné et cherchons la première puissance de $2$ plus grande que $n$ en utilisant une boucle $\\texttt{while}$."
   ]
  },
  {
   "cell_type": "code",
   "execution_count": null,
   "metadata": {},
   "outputs": [],
   "source": []
  },
  {
   "cell_type": "markdown",
   "metadata": {},
   "source": [
    "Exercice 4.4 - **(Table de multiplication)** - Afficher les tables de multiplication entre $1$ et $10$.\n",
    "\n",
    "Voici un exemple de ligne à afficher : $7 \\times 9 = 63$\n",
    "\n",
    "On utilisera une commande d'affichage du style  $\\,\\,\\texttt{print(a,\"}\\times\\texttt{\",b,\"=\",a*b)}$"
   ]
  },
  {
   "cell_type": "code",
   "execution_count": null,
   "metadata": {},
   "outputs": [],
   "source": []
  },
  {
   "cell_type": "markdown",
   "metadata": {},
   "source": [
    "Exercice 4.5 - **(Cartes de jeux)** - On considère les deux listes suivantes :  \n",
    "\n",
    "- $\\texttt{couleurs=['pique','coeur','carreau','trefle']}$\n",
    "- $\\texttt{valeurs=['7','8','9','10','valet','reine','roi','as']}$\n",
    "\n",
    "Écrire un script qui affiche toutes les cartes d'un jeu de $32$ cartes."
   ]
  },
  {
   "cell_type": "code",
   "execution_count": null,
   "metadata": {},
   "outputs": [],
   "source": []
  },
  {
   "cell_type": "markdown",
   "metadata": {},
   "source": [
    "Exercice 4.6 - **(Suite géométrique)** - Soit $\\big(u_n\\big)_{n\\in \\mathbb{N}}$ la suite définie par $\\, u_n = (0,7)^{3n}$.  \n",
    "\n",
    "Quel est le plus petit $n$ tel que $\\, u_n < 10^{-4}$ ?"
   ]
  },
  {
   "cell_type": "code",
   "execution_count": null,
   "metadata": {},
   "outputs": [],
   "source": []
  },
  {
   "cell_type": "markdown",
   "metadata": {},
   "source": [
    "Exercice 4.11 - **(Devine le résultat)** - Après avoir écrit la réponse, vérifiez-là avec la console\n",
    "\n",
    "Quel résultat donne le code suivant ?"
   ]
  },
  {
   "cell_type": "code",
   "execution_count": null,
   "metadata": {},
   "outputs": [],
   "source": [
    "L_1 = list(range(0,11,2))\n",
    "L_2 = list(range(1,12,2))\n",
    "L = []\n",
    "for i in range(len(L_1)):\n",
    "    L = L + [L_1[i]] + [L_2[i]]  # L.append(L_1[i]).append(L_2[i])\n",
    "print(L_1)\n",
    "print(L_2)\n",
    "print(L)"
   ]
  },
  {
   "cell_type": "markdown",
   "metadata": {},
   "source": [
    "Exercice 4.12 - **(Happy Birthday)** - Soit les chaînes de caractères suivantes :\n",
    "\n",
    "$\\texttt{h = 'Happy birthday'}$\n",
    "\n",
    "$\\texttt{t = 'to you'}$\n",
    "\n",
    "$\\texttt{p = 'Prenom'}$\n",
    "\n",
    "Imprimer la chanson $\\texttt{Happy birthday}$ "
   ]
  },
  {
   "cell_type": "code",
   "execution_count": null,
   "metadata": {},
   "outputs": [],
   "source": []
  },
  {
   "cell_type": "markdown",
   "metadata": {},
   "source": [
    "Exercice 4.13 - **(Cadeaux)** -\n",
    "\n",
    "Vous recevez un cadeau de 1 centime aujourd’hui. Demain, vous recevrez le double (2 centimes).\n",
    "\n",
    "Le lendemain, vous recevrez à nouveau le double (4 centimes). Etc. \n",
    "\n",
    "Une fois que vous aurez reçu plus de 1 million d'euros, vos cadeaux cesseront. \n",
    "\n",
    "Écrivez le code pour déterminer combien de jours vous recevrez des cadeaux, combien sera le dernier cadeau et combien vous recevrez au total."
   ]
  },
  {
   "cell_type": "code",
   "execution_count": null,
   "metadata": {},
   "outputs": [],
   "source": []
  },
  {
   "cell_type": "markdown",
   "metadata": {},
   "source": [
    "Exercice 4.14 - **(Affichage)** - Pour $n \\in \\mathbb{N}$ donné, afficher $1 + 2 + \\ldots + n = N$ où $N$ est à calculer."
   ]
  },
  {
   "cell_type": "code",
   "execution_count": null,
   "metadata": {},
   "outputs": [],
   "source": []
  },
  {
   "cell_type": "markdown",
   "metadata": {},
   "source": [
    "Exercice 4.16 - **(Maximum d’une liste de nombres)** - Soit une liste de nombres.\n",
    "\n",
    "Trouver le plus grand élément de cette liste sans utiliser la fonction prédéfinie $\\texttt{max}$"
   ]
  },
  {
   "cell_type": "code",
   "execution_count": null,
   "metadata": {},
   "outputs": [],
   "source": []
  },
  {
   "cell_type": "markdown",
   "metadata": {},
   "source": [
    "Exercice Bonus 4.17 - **(Le nombre mystère)** - Écrire un script où l'ordinateur choisit un nombre mystère entre $0$ et $99$ (inclus) au hasard et le joueur doit deviner ce nombre en suivant les indications «plus grand» ou «plus petit» données par l’ordinateur.\n",
    "\n",
    "Le joueur a sept tentatives pour trouver la bonne réponse. **Programmer ce jeu**.\n",
    "\n",
    "Pour affecter à la variable $\\texttt{j}$ la valeur que le joueur tape au clavier on écrira\n",
    "\n",
    "$\\texttt{j=int(input('Quel nombre proposes-tu ?'))}$"
   ]
  },
  {
   "cell_type": "code",
   "execution_count": null,
   "metadata": {},
   "outputs": [],
   "source": []
  },
  {
   "cell_type": "markdown",
   "metadata": {},
   "source": [
    "# <div id=\"S5\">5. List-comprehensions</div> \n",
    "\n",
    "<div style=\"text-align : right\"><a href=\"#top\">Retour</a></div>"
   ]
  },
  {
   "cell_type": "markdown",
   "metadata": {},
   "source": [
    "Les listes définies par compréhension permettent de générer des listes de manière très concise sans avoir à\n",
    "utiliser des boucles.\n",
    "\n",
    "La syntaxe pour définir une liste par compréhension est très proche de celle utilisée en\n",
    "mathématiques pour définir un ensemble :\n",
    "\n",
    "$\\left\\{\\texttt{ f(x) }\\mid \\texttt{x} \\in \\texttt{E} \\right\\}$\n",
    "\n",
    "$\\left[\\texttt{ f(x) for x in E }\\right]$"
   ]
  },
  {
   "cell_type": "code",
   "execution_count": 11,
   "metadata": {},
   "outputs": [
    {
     "data": {
      "text/plain": [
       "[6, 12, 18, 24, 30]"
      ]
     },
     "execution_count": 11,
     "metadata": {},
     "output_type": "execute_result"
    }
   ],
   "source": [
    "E = [2, 4, 6, 8, 10]\n",
    "[3*x for x in E]"
   ]
  },
  {
   "cell_type": "code",
   "execution_count": null,
   "metadata": {},
   "outputs": [],
   "source": [
    "[[x,x**3] for x in E]"
   ]
  },
  {
   "cell_type": "code",
   "execution_count": null,
   "metadata": {},
   "outputs": [],
   "source": [
    "[3*x for x in E if x>5]"
   ]
  },
  {
   "cell_type": "code",
   "execution_count": null,
   "metadata": {},
   "outputs": [],
   "source": [
    "[3*x for x in E if x**2<50]"
   ]
  },
  {
   "cell_type": "code",
   "execution_count": null,
   "metadata": {},
   "outputs": [],
   "source": [
    "[x*y for x in E for y in range(3)]"
   ]
  },
  {
   "cell_type": "code",
   "execution_count": null,
   "metadata": {},
   "outputs": [],
   "source": [
    "[x**2 for x in range(1,8) if x**2%2 == 0]"
   ]
  },
  {
   "cell_type": "code",
   "execution_count": null,
   "metadata": {},
   "outputs": [],
   "source": [
    "[x for x in [a**2 for a in range(1,8)] if x%2 == 0]"
   ]
  },
  {
   "cell_type": "code",
   "execution_count": null,
   "metadata": {},
   "outputs": [],
   "source": [
    "[1/n for n in range(1,5)]"
   ]
  },
  {
   "cell_type": "markdown",
   "metadata": {},
   "source": [
    "Exercice 5.1 - **(Comprehensions-list : liste des diviseurs)** - \n",
    "Pour un entier $n \\in \\mathbb{N}$ donné, calculer la liste de ses diviseurs."
   ]
  },
  {
   "cell_type": "code",
   "execution_count": null,
   "metadata": {},
   "outputs": [],
   "source": []
  },
  {
   "cell_type": "markdown",
   "metadata": {},
   "source": [
    "Exercice 5.2 - **(Comprehensions-list : nombres parfaits)** -\n",
    "Pour un entier $n \\in \\mathbb{N}$ donné, on note $\\texttt{d}(n)$ la somme des diviseurs propres de $n$ (diviseurs de $n$ inférieurs à $n$).\n",
    "\n",
    "- Si $\\texttt{d}(n) = n$ on dit que n est **parfait**,\n",
    "- Si $\\texttt{d}(n) < n$ on dit que n est **déficient**,\n",
    "- Si $\\texttt{d}(n) > n$ on dit que n est **abondant**.\n",
    "\n",
    "Par exemple,\n",
    "\n",
    "$\\texttt{a} = 220$\n",
    "\n",
    "$\\texttt{d}(a) = 1 + 2 + 4 + 5 + 10 + 11 + 20 + 22 + 44 + 55 + 110 = 284 > a \\, \\implies \\texttt{a}$ est abondant\n",
    "\n",
    "**Classer** tous les nombres $n \\leqslant 100$ en trois listes."
   ]
  },
  {
   "cell_type": "code",
   "execution_count": null,
   "metadata": {},
   "outputs": [],
   "source": []
  },
  {
   "cell_type": "markdown",
   "metadata": {},
   "source": [
    "Exercice 5.3 - **(Comprehensions-list : somme des carrés)** - Soit $\\texttt{L}$ une liste de nombres. \n",
    "\n",
    "Calculer la somme des carrés des éléments de $\\texttt{L}$.\n",
    "\n",
    "Par exemple, si $\\texttt{L=[0,1,2]}$, on doit obtenir $5$."
   ]
  },
  {
   "cell_type": "code",
   "execution_count": null,
   "metadata": {},
   "outputs": [],
   "source": []
  },
  {
   "cell_type": "markdown",
   "metadata": {},
   "source": [
    "Exercice 5.4 - **(Comprehensions-list : somme des chiffres d'un nombre)** -\n",
    "Soit $n \\in \\mathbb{N}$. Calculer la somme de ses chiffres.\n",
    "\n",
    "Par exemple, si $n=30071966$, on doit obtenir $32$."
   ]
  },
  {
   "cell_type": "code",
   "execution_count": null,
   "metadata": {},
   "outputs": [],
   "source": []
  },
  {
   "cell_type": "markdown",
   "metadata": {},
   "source": [
    "Exercice 5.5 - **(Comprehensions-list : liste de nombres)** - Écrire une liste qui contient tous les entiers compris entre $0$ et $999$ qui vérifient toutes les propriétés suivantes :\n",
    "\n",
    "l'entier se termine par $3$, la somme des chiffres est supérieure ou égale à $15$, le chiffre des dizaines est pair."
   ]
  },
  {
   "cell_type": "code",
   "execution_count": null,
   "metadata": {},
   "outputs": [],
   "source": []
  },
  {
   "cell_type": "markdown",
   "metadata": {},
   "source": [
    "Exercice 5.7 - **(Comprehensions-list : Jours du mois)**  \n",
    "Soient les listes suivantes :  \n",
    "$\\texttt{J=[31,28,31,30,31,30,31,31,30,31,30,31]}$\n",
    "$\\texttt{M=['Janvier','Fevrier','Mars','Avril','Mai','Juin','Juillet','Aout','Septembre','Octobre','Novembre','Decembre']}$  \n",
    "Écrire un script qui génère et affiche la liste de tuples suivante :  \n",
    "$\\texttt{[('Janvier',31),('Fevrier',28)}\\ldots$"
   ]
  },
  {
   "cell_type": "code",
   "execution_count": null,
   "metadata": {},
   "outputs": [],
   "source": []
  },
  {
   "cell_type": "markdown",
   "metadata": {},
   "source": [
    "# <div id=\"S6\">6. Fonctions et Modules</div> \n",
    "\n",
    "<div style=\"text-align : right\"><a href=\"#top\">Retour</a></div>"
   ]
  },
  {
   "cell_type": "markdown",
   "metadata": {},
   "source": [
    "Exercice 6.2 - **(Module math - Angles remarquables)**  \n",
    "Soit $\\texttt{R}$ la liste des angles (en radians) $\\texttt{R=[0,pi/6,pi/4,pi/3,pi/2]}$.  \n",
    "Calculer une liste $\\texttt{D}$ avec les angles en degrés, une liste $\\texttt{C}$ avec l'évaluation du cosinus en ces angles et une liste $\\texttt{S}$ avec l'évaluation du sinus."
   ]
  },
  {
   "cell_type": "code",
   "execution_count": 1,
   "metadata": {},
   "outputs": [],
   "source": [
    "from math import pi,cos,sin   #from math import *"
   ]
  },
  {
   "cell_type": "markdown",
   "metadata": {},
   "source": []
  },
  {
   "cell_type": "markdown",
   "metadata": {},
   "source": [
    "Exercice 6.4 - **(Module random - Jeu de dé)**  \n",
    "On lance un dé. Si le numéro est $1$, $5$ ou $6$, alors c'est gagné, sinon c'est perdu.  \n",
    "Écrire un programme simulant ce jeu 10 fois et qui affiche \"gagné\" ou \"perdu\".  \n",
    "Simuler le jeu $10\\ 000$ fois et compter combien de fois on a gagné."
   ]
  },
  {
   "cell_type": "code",
   "execution_count": 2,
   "metadata": {},
   "outputs": [],
   "source": [
    "from random import randint"
   ]
  },
  {
   "cell_type": "markdown",
   "metadata": {},
   "source": [
    "Exercice 6.5 - **(Module random - Calcul de fréquences)**  \n",
    "On tire $10\\ 000$ nombres au hasard dans l'intervalle $[0, 1]$.  \n",
    "À chaque tirage, on se demande si l'événement A : «le nombre tiré au hasard appartient à l'intervalle $[1/7, 5/6]$» est réalisé.  \n",
    "1. Combien vaut la probabilité $p$ de A ?  \n",
    "   *En fait, il est sous-entendu que les nombres sont tirés selon la loi uniforme sur $[0, 1]$.  \n",
    "    Dans ces conditions, par définition de cette loi, la probabilité de l'événement A est la longueur de $[1/7, 5/6]$, soit $p = 5/6 - 1/7 = 29/42$.*\n",
    "2. Calculer la fréquence de réalisation de A."
   ]
  },
  {
   "cell_type": "code",
   "execution_count": 3,
   "metadata": {},
   "outputs": [],
   "source": [
    "from random import random"
   ]
  },
  {
   "cell_type": "markdown",
   "metadata": {},
   "source": [
    "Exercice 6.7 - **(Devine le résultat - variables globales vs locales)**"
   ]
  },
  {
   "cell_type": "markdown",
   "metadata": {},
   "source": [
    "Cas 1 : Une variable déclarée dans une fonction ne sera visible que dans cette fonction. On parle alors de\n",
    "variable locale :"
   ]
  },
  {
   "cell_type": "code",
   "execution_count": null,
   "metadata": {},
   "outputs": [],
   "source": [
    "def test():\n",
    "    x = \"hello\"\n",
    "print(x)"
   ]
  },
  {
   "cell_type": "markdown",
   "metadata": {},
   "source": [
    "Cas 2 : Une variable déclarée en dehors d'une fonction est visible à l'intéreir de la fonction. On parle alors de variable globale."
   ]
  },
  {
   "cell_type": "code",
   "execution_count": 5,
   "metadata": {},
   "outputs": [],
   "source": [
    "x = \"hello\"\n",
    "def test():\n",
    "    print(x)\n",
    "\n",
    "test()"
   ]
  },
  {
   "cell_type": "markdown",
   "metadata": {},
   "source": []
  },
  {
   "cell_type": "markdown",
   "metadata": {},
   "source": [
    "Exercice 6.8 - **(Devine le résultat)**  \n",
    "Calculer $\\texttt{f(0, 0, 0), f(-2, 0, 3), f(-2, 3, 0), f(2, 0, 2), f(1, 0, 2), f(3, -1, -2)}$.  \n",
    "Où $f$ est la fonction suivante :"
   ]
  },
  {
   "cell_type": "code",
   "execution_count": 6,
   "metadata": {},
   "outputs": [],
   "source": [
    "def f(x,a,b):\n",
    "    if a>b:\n",
    "        a,b=b,a\n",
    "    if x<=a:\n",
    "        return a\n",
    "    elif x>=b:\n",
    "        return b\n",
    "    else:\n",
    "        if (x-a)>(b-x):\n",
    "            return b\n",
    "        else:\n",
    "            return a"
   ]
  },
  {
   "cell_type": "markdown",
   "metadata": {},
   "source": [
    "Exercice 6.9 - **(Premières fonctions)**  \n",
    "- **Écrire des fonctions sans paramètres ni sortie**  \n",
    "  - écrire une fonction appelée $\\texttt{affiche\\_table\\_de\\_7()}$ qui affiche la table de multiplication par $7$ : $1\\times7=7, 2\\times7=14 \\ldots$  \n",
    "- **Écrire des fonctions sans paramètres avec sortie**  \n",
    "  - écrire une fonction appelée $\\texttt{my\\_PI()}$ qui renvoi $3.1415$\n",
    "- **Écrire des fonctions avec paramètres sans sortie**  \n",
    "  - écrire une fonction appelée $\\texttt{affiche\\_une\\_table(n)}$ qui dépend d'un paramètre $\\texttt{n}$ et qui affiche la table de multiplication par $\\texttt{n}$. Par exemple, la commande $\\texttt{affiche_une_table(5)}$ affichera $1\\times5=5, 2\\times5=10 \\ldots$  \n",
    "  - écrire une fonction appelée $\\texttt{modifier\\_liste(L)}$ qui prend comme paramètre une liste $\\texttt{L}$ et qui la modifie en ajoutant à la fin l'élément $\\texttt{\"coucou\"}$. Par exemple, les instructions commande $\\texttt{L=[1,5,10]; print(L); modifier\\_liste([1,5,10]); print(L);}$  \n",
    "    afficherons $\\texttt{[1,5,10]\n",
    "[1,5,10,\"coucou\"]}$\n",
    "- **Écrire des fonctions avec paramètres et sortie**   \n",
    "  - écrire une fonction appelée $\\texttt{euros\\_vers\\_dollars(montant)}$ qui dépend d'un paramètre et qui pour une somme d'argent montant, exprimée en euros, renvoie sa valeur en dollars (au moment de la rédaction de cet exercice $\\texttt{1 euro=1.13\\$}  $).\n",
    "  - écrire une fonction appelée $\\texttt{calcul\\_puissance(x,n)}$ qui renvoi (sans afficher) $x^n$ .  \n",
    "  - écrire une fonction appelée $\\texttt{somme\\_produit(x,n)}$ qui calcule et renvoie la somme et le produit      de deux nombres donnés en entrée."
   ]
  },
  {
   "cell_type": "code",
   "execution_count": null,
   "metadata": {},
   "outputs": [],
   "source": []
  },
  {
   "cell_type": "markdown",
   "metadata": {},
   "source": [
    "Exercice 6.11 - **(Prix d’un billet)**  \n",
    "Voici la réduction pour le prix d'un billet de train en fonction de l’âge du voyageur :\n",
    "  - réduction de $50\\%$ pour les moins de 10 ans ;\n",
    "  - réduction de $30\\%$ pour les 10 à 18 ans ;\n",
    "  - réduction de $20\\%$ pour les 60 ans et plus.\n",
    "  \n",
    "1. **Écris une fonction** qui renvoie la réduction en fonction de l’âge et dont les propriétés sont rappelées\n",
    "ci-dessous :\n",
    " - Nom : $\\texttt{reduction()}$\n",
    " - Usage : $\\texttt{reduction(age)}$\n",
    " - Entrée : un entier correspondant à l'âge\n",
    " - Sortie : un entier correspondant à la réduction\n",
    " \n",
    "   Exemples : $\\texttt{reduction(17)}$ renvoie $\\texttt{30}$ ; $\\texttt{reduction(23)}$ renvoie $\\texttt{0}$  \n",
    "   \n",
    "2. **Écris une fonction** qui calcule le montant à payer en fonction du tarif normal et de l'âge du voyageur :\n",
    " - Nom : $\\texttt{montant()}$\n",
    " - Usage : $\\texttt{montant(tarif\\_normal,age)}$\n",
    " - Entrée : un nombre $\\texttt{tarif\\_normal}$ correspondant au prix sans réduction et age (un entier)\n",
    " - Sortie : un nombre correspondant au montant à payer après réduction\n",
    " \n",
    "   Remarque : utilise la fonction $\\texttt{reduction()}$  \n",
    "   Exemples : $\\texttt{montant(100,17)}$ renvoie $\\texttt{70}$.\n",
    "3. Considérons une famille qui achète des billets pour différents trajets, voici le tarif normal de chaque trajet et les âges des voyageurs :\n",
    " - tarif normal 30 euros, enfant de 9 ans ;\n",
    " - tarif normal 20 euros, pour chacun des jumeaux de 16 ans ;\n",
    " - tarif normal 35 euros, pour chacun des parents de 40 ans.  \n",
    "   Quel est le montant total payé par la famille ?"
   ]
  },
  {
   "cell_type": "code",
   "execution_count": null,
   "metadata": {},
   "outputs": [],
   "source": []
  },
  {
   "cell_type": "markdown",
   "metadata": {},
   "source": [
    "Exercice 6.20 - **(Voyelles)**  \n",
    "Écrire une fonction qui prend en entrée une chaîne de caractères donnée et renvoie le nombre de voyelles.  \n",
    "-> *citron contient 2 voyelles*"
   ]
  },
  {
   "cell_type": "code",
   "execution_count": null,
   "metadata": {},
   "outputs": [],
   "source": []
  },
  {
   "cell_type": "markdown",
   "metadata": {},
   "source": [
    "Exercice 6.21 - **(Pangramme)**  \n",
    "Écrire une fonction qui prend en entrée une chaîne de caractères $\\texttt{s}$ donnée et renvoie $\\texttt{True}$ si elle contient toutes les lettres de l'alphabet  \n",
    "(i.e. $\\texttt{s}$ est un pangramme), $\\texttt{False}$ sinon.  \n",
    "\n",
    "On prendra comme alphabet $\\texttt{\"abcdefghijklmnopqrstuvwxyz\"}$.\n",
    "\n",
    "Deux pangrammes classiques :\n",
    " - \"Portez ce vieux whisky au juge blond qui fume\"\n",
    " - \"The quick brown fox jumps over the lazy dog\""
   ]
  },
  {
   "cell_type": "code",
   "execution_count": null,
   "metadata": {},
   "outputs": [],
   "source": []
  },
  {
   "cell_type": "markdown",
   "metadata": {},
   "source": [
    "Exercice 6.23 - **(Swap)**  \n",
    "\n",
    "Soit $\\texttt{L}$ une liste de nombres. Écrire une procédure $\\texttt{Swap(L,i,j)}$ qui échange les éléments d'indices $\\texttt{i}$ et $\\texttt{j}$ de la liste $\\texttt{L}$.  \n",
    "Par exemple, $\\texttt{Swap([0,1,2,10,80],1,4)=[0,80,2,10,1]}$.  \n",
    "\n",
    "*Puisque la liste est un objet mutable, il n'est pas nécessaire d'utiliser $\\texttt{return}$ :"
   ]
  },
  {
   "cell_type": "code",
   "execution_count": null,
   "metadata": {},
   "outputs": [],
   "source": []
  },
  {
   "cell_type": "markdown",
   "metadata": {},
   "source": [
    "Exercice 6.29 - **(Turtle - lettres)**  \n",
    "Compléter le script suivant qui doit tracer l'image :  \n",
    "\n",
    "<img src=\"http://lycee.lagrave.free.fr/nsi/programmation/turtlepy.png\" />\n"
   ]
  },
  {
   "cell_type": "code",
   "execution_count": 9,
   "metadata": {},
   "outputs": [],
   "source": [
    "from turtle import *\n",
    "\n",
    "def P(l,coul='red'):\n",
    "    color(coul)\n",
    "    left(90)\n",
    "    forward(2*l)\n",
    "    right(90)\n",
    "    forward(l)\n",
    "    right(90)\n",
    "    forward(l)\n",
    "    right(90)\n",
    "    forward(l)\n",
    "\n",
    "def Y(l,coul='blue'):\n",
    "    color(coul)\n",
    "    right(90)\n",
    "    forward(3*l)\n",
    "    \n",
    "    \n",
    "P(100,'red')\n",
    "\n",
    "up()\n",
    "goto(200,0)\n",
    "down()\n",
    "\n",
    "Y(50,coul='blue')\n",
    "\n",
    "exitonclick()"
   ]
  },
  {
   "cell_type": "markdown",
   "metadata": {},
   "source": [
    "Exercice 6.30 - **(Turtle - polygones)**  \n",
    "Écrire une fonction $\\texttt{polygone(n,longueur)}$ qui trace un polygone régulier à $\\texttt{n}$ côtés et d'une longueur de côté donnée (l'angle pour tourner est alors de $\\texttt{360/n}$ degrés).  \n",
    "\n",
    "<img src=\"http://lycee.lagrave.free.fr/nsi/programmation/turtlepoly.png\" width=\"25%\"/>\n",
    "\n",
    "Tester la fonction pour $n = 3, 4, 5, \\ldots , 14$."
   ]
  },
  {
   "cell_type": "code",
   "execution_count": null,
   "metadata": {},
   "outputs": [],
   "source": []
  },
  {
   "cell_type": "markdown",
   "metadata": {},
   "source": [
    "Exercice 6.31 - **($F : \\mathbb{R} \\longrightarrow \\mathbb{R}^2$)**  \n",
    "Devine le résultat :"
   ]
  },
  {
   "cell_type": "code",
   "execution_count": 11,
   "metadata": {},
   "outputs": [],
   "source": [
    "f1 = lambda x:x+1\n",
    "f2 = lambda x:x**2\n",
    "F=[f1,f2]\n",
    "print([f(1) for f in F])\n",
    "F = lambda x:[x+1,x**2]\n",
    "print(F(1))"
   ]
  },
  {
   "cell_type": "markdown",
   "metadata": {},
   "source": []
  },
  {
   "cell_type": "markdown",
   "metadata": {},
   "source": [
    "## Passage de paramètres aux fonctions"
   ]
  },
  {
   "cell_type": "markdown",
   "metadata": {},
   "source": [
    "Il existe le même problème quand on passe des arguments aux fonctions :\n",
    "\n",
    "- Pour les variables de **type int, float, bool, str**, il n'y a **pas d'effet de bord** car ces types sont **immuables**. La **variable passée en paramètre est recopiée ailleurs en mémoire dès quelle est modifiée**.\n",
    "\n",
    "- Pour les variables de **type list, set, dict**, il y'a des **effets de bord** car ces types sont **muables**. La **fonction** reçoit **l'adresse de la variable passée en argument** et **peut** donc en **modifier le contenu** car la variable est **muable**.\n",
    "\n",
    "**Effet de bord** : quand une fonction modifie le contenu d'une variable qui appartient au contexte appelant.\n",
    "\n",
    "Illustrons cela avec 2 exemples. Nous créons une fonction **test** qui va ajouter 2 à la variable passée en argument."
   ]
  },
  {
   "cell_type": "code",
   "execution_count": null,
   "metadata": {},
   "outputs": [],
   "source": [
    "def test(variable):\n",
    "    print(\"Adresse de la variable passée en argument: \", adr(variable))\n",
    "    \n",
    "    if type(variable) is int:\n",
    "        variable += 4\n",
    "    elif type(variable) is list:\n",
    "        variable.append(4)\n",
    "    else :\n",
    "        print(\"fonction de test à utiliser avec des int ou des list\")\n",
    "        \n",
    "    print(\"Adresse de la variable une fois modifiée: \", adr(variable))"
   ]
  },
  {
   "cell_type": "markdown",
   "metadata": {},
   "source": [
    "### Passage d'une variable immuable : Pas d'effet de bord !"
   ]
  },
  {
   "cell_type": "code",
   "execution_count": null,
   "metadata": {},
   "outputs": [],
   "source": [
    "a = 5\n",
    "print(\"Adresse de la variable a: \", adr(a))\n",
    "test(a)\n",
    "print(\"a=\",a)"
   ]
  },
  {
   "cell_type": "markdown",
   "metadata": {},
   "source": [
    "⚠️ La fonction test reçoit **l'adresse de la variable a** mais quand elle veut **modifier** la variable, il s'en **crée une copie à une autre adresse** : la variable **a n'est donc pas modifiée** ! **Ici, pas d'effet de bord !**"
   ]
  },
  {
   "cell_type": "markdown",
   "metadata": {},
   "source": [
    "### Passage d'une variable muable : ⚠️ Effet de bord ! ⚠️"
   ]
  },
  {
   "cell_type": "code",
   "execution_count": null,
   "metadata": {},
   "outputs": [],
   "source": [
    "liste = [1,2,3]\n",
    "print(\"Adresse de la variable liste: \", adr(liste))\n",
    "test(liste)\n",
    "print(\"liste=\",liste)"
   ]
  },
  {
   "cell_type": "markdown",
   "metadata": {},
   "source": [
    "⚠️ La fonction test reçoit **l'adresse de la variable liste** et peut **modifier** la variable car elle est **muable** ! **Ici il y'a effet de bord !** ⚠️"
   ]
  },
  {
   "cell_type": "markdown",
   "metadata": {},
   "source": [
    "# <div id=\"S7\">7. Tracé de courbes</div> \n",
    "\n",
    "<div style=\"text-align : right\"><a href=\"#top\">Retour</a></div>"
   ]
  },
  {
   "cell_type": "code",
   "execution_count": 12,
   "metadata": {},
   "outputs": [
    {
     "data": {
      "image/png": "[encoded data removed]",
      "text/plain": [
       "<Figure size 432x288 with 1 Axes>"
      ]
     },
     "metadata": {
      "needs_background": "light"
     },
     "output_type": "display_data"
    }
   ],
   "source": [
    "%matplotlib inline\n",
    "\n",
    "from matplotlib.pylab import *\n",
    "x = arange(-pi,pi,0.05*pi)\n",
    "plot(x,sin(x),'co',x,cos(x),'mD')\n",
    "legend(['sinus','cosinus'],loc='upper left')\n",
    "axis([-pi, pi, -1, 1]); # axis([xmin, xmax, ymin, ymax])\n",
    "show()"
   ]
  },
  {
   "cell_type": "code",
   "execution_count": 13,
   "metadata": {},
   "outputs": [
    {
     "data": {
      "image/png": "[encoded data removed]",
      "text/plain": [
       "<Figure size 432x288 with 1 Axes>"
      ]
     },
     "metadata": {
      "needs_background": "light"
     },
     "output_type": "display_data"
    },
    {
     "data": {
      "image/png": "[encoded data removed]",
      "text/plain": [
       "<Figure size 432x288 with 1 Axes>"
      ]
     },
     "metadata": {
      "needs_background": "light"
     },
     "output_type": "display_data"
    }
   ],
   "source": [
    "from matplotlib.pylab import *\n",
    "x = arange(-pi,pi,0.05*pi)\n",
    "figure(1)\n",
    "plot(x, sin(x), 'r')\n",
    "figure(2)\n",
    "plot(x, cos(x), 'g')\n",
    "show()"
   ]
  },
  {
   "cell_type": "markdown",
   "metadata": {},
   "source": [
    "Exercice 7.1 - **(Tracer des droites)**  \n",
    "Tracer dans le même repère les droites suivantes (sur $[−2; 2]$) :\n",
    "- $f(x) = x + 1$  \n",
    "- $g(x) = 2.5$ (en utilisant seulement deux points)\n",
    "- $x =3$\n",
    "\n",
    "Ajouter une grille, la légende, un titre."
   ]
  },
  {
   "cell_type": "code",
   "execution_count": 14,
   "metadata": {},
   "outputs": [
    {
     "data": {
      "image/png": "[encoded data removed]",
      "text/plain": [
       "<Figure size 432x288 with 1 Axes>"
      ]
     },
     "metadata": {
      "needs_background": "light"
     },
     "output_type": "display_data"
    }
   ],
   "source": [
    "from matplotlib.pylab import *\n",
    "xx=linspace(-2,2,101)\n",
    "yy=[x+1 for x in xx]\n",
    "plot(xx,yy,'r-',label=('f'))\n",
    "plot([-2,2],[2.5,2.5],'b.-',label=('g'))\n",
    "plot([1.5,1.5],[-1,3],'g-',lw=3,label=('x=3'))\n",
    "title(\"Exercice 7.1\")\n",
    "grid()\n",
    "legend(loc=\"best\")\n",
    "show()"
   ]
  },
  {
   "cell_type": "markdown",
   "metadata": {},
   "source": [
    "# <div id=\"A1\">A. Les «mauvaises» propriétés des nombres flottants et la notion de précision</div> \n",
    "\n",
    "<div style=\"text-align : right\"><a href=\"#top\">Retour</a></div>"
   ]
  },
  {
   "cell_type": "markdown",
   "metadata": {},
   "source": [
    "- Calcul numérique : calcul en utilisant des nombres, en général en virgule flottante.\n",
    "- Calcul numérique $\\neq$ calcul symbolique.\n",
    "- <a href=\"http://lycee.lagrave.free.fr/nsi/numerisation/1_Representation_donnees_base_diapo.pdf\" target=\"_blank\">Nombre flottant</a> : signe + mantisse («chiffres significatifs») + exposant.\n",
    "- <a href=\"http://lycee.lagrave.free.fr/nsi/numerisation/NSI_Representation_donnees_base_exos1.pdf\" target=\"_blank\">Valeur d'un flottant</a> $= (-1)^{\\mathrm{signe}} + 1.\\mathrm{mantisse}\\times2^{\\mathrm{exposant}}$\n",
    "- Précision avec les flottants Python (double précision = 64 bits) :\n",
    "  - 1 bit de signe\n",
    "  - 52 bits de mantisse ($\\implies$ environ 15 à 16 décimales significatives)\n",
    "  - 11 bits d'exposant ($\\implies$ représentation des nombres de $10^{-308}$ à $10^{308}$)"
   ]
  },
  {
   "cell_type": "markdown",
   "metadata": {},
   "source": [
    "Il ne faut jamais se fier trop vite au résultat d'un calcul obtenu avec un ordinateur...\n",
    "\n",
    "L’expérimentation numérique dans les sciences est un sujet passionnant et un outil fort utile, devenu indispensable pour certains scientifiques. Malgré la puissance vertigineuse de calcul de nos ordinateurs aujourd'hui, et encore plus de certains centres de calculs, on aurait tort d'oublier complètement la théorie et de trop se moquer de comment fonctionne la machine, au risque d'avoir quelques surprises...\n",
    "\n",
    "Observons des calculs quelque peu surprenants :"
   ]
  },
  {
   "cell_type": "code",
   "execution_count": null,
   "metadata": {},
   "outputs": [],
   "source": [
    "0.1 + 0.1 + 0.1 - 0.3"
   ]
  },
  {
   "cell_type": "code",
   "execution_count": null,
   "metadata": {},
   "outputs": [],
   "source": [
    "1.1 + 2.2"
   ]
  },
  {
   "cell_type": "markdown",
   "metadata": {},
   "source": [
    "Que s’est-il passé ? Tout simplement, les calculs effectués ne sont pas exacts et sont entachés d'erreurs d'arrondis.\n",
    "\n",
    "En effet, tout nombre réel possède un développement décimal soit fini soit illimité. Parmi les nombres réels, on peut alors distinguer les **rationnels** (dont le développement décimal est soit fini soit illimité et périodique à partir d'un certain rang) des **irrationnels** (dont le développement décimal est illimité et non périodique). \n",
    "\n",
    "Il est aisé de concevoir qu'il n’est pas possible pour un ordinateur de représenter de manière exacte un développement décimal illimité, mais même la représentation des développements décimaux finis n'est pas toujours possible. En effet, **un ordinateur stocke les nombres non pas en base $10$ mais en base $2$**. Or, un nombre rationnel peut tout à fait posséder un développement décimal fini et un développement binnaire illimité ! \n",
    "\n",
    "C'est le cas des décimaux $1,1$ et $2,2$ qui, en base $2$, s'écrivent $01.\\overline{01}$ et $10.\\overline{001}$ respectivement."
   ]
  },
  {
   "cell_type": "markdown",
   "metadata": {},
   "source": [
    "Exercice A.1 - **(Devine le résultat)** - Quel résultat donne le code suivant ?"
   ]
  },
  {
   "cell_type": "code",
   "execution_count": null,
   "metadata": {},
   "outputs": [],
   "source": [
    "print(0.2+0.3+0.4)\n",
    "print(0.3+0.4+0.2)\n",
    "print(0.4+0.2+0.3)\n",
    "print(0.2+0.4)"
   ]
  },
  {
   "cell_type": "markdown",
   "metadata": {},
   "source": [
    "**Correction**\n",
    "\n",
    "Python effectue les opérations de gauche à droite. \n",
    "\n",
    "Pour la première expression, il calcule déjà $0.2 + 0.3$,\n",
    "puis ajoute au résultat $0.4$.\n",
    "\n",
    "Pour la seconde opération, il calcule $0.3 + 0.4$, puis ajoute au résultat $0.2$.\n",
    "\n",
    "Or ces nombres n'ont pas une écriture finie en base $2$ et sont donc approchés. Les erreurs sur le dernier chiffre provoquent ces différences."
   ]
  },
  {
   "cell_type": "markdown",
   "metadata": {},
   "source": [
    "# <div id=\"B1\">B. Autres ressources</div> \n",
    "\n",
    "<div style=\"text-align : right\"><a href=\"#top\">Retour</a></div>"
   ]
  },
  {
   "cell_type": "markdown",
   "metadata": {},
   "source": [
    "Pour insérer une page web dans une cellule du notebook :"
   ]
  },
  {
   "cell_type": "code",
   "execution_count": null,
   "metadata": {},
   "outputs": [],
   "source": [
    "from IPython.display import IFrame\n",
    "display(IFrame(src='http://lycee.lagrave.free.fr/nsi/architecture/amilweb2', width=800, height=1000))"
   ]
  }
 ],
 "metadata": {
  "kernelspec": {
   "display_name": "Python 3",
   "language": "python",
   "name": "python3"
  },
  "language_info": {
   "codemirror_mode": {
    "name": "ipython",
    "version": 3
   },
   "file_extension": ".py",
   "mimetype": "text/x-python",
   "name": "python",
   "nbconvert_exporter": "python",
   "pygments_lexer": "ipython3",
   "version": "3.7.3"
  }
 },
 "nbformat": 4,
 "nbformat_minor": 2
}
